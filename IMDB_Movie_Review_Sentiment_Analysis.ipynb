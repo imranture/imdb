{
 "cells": [
  {
   "cell_type": "markdown",
   "metadata": {},
   "source": [
    "# IMDB Movie Review Sentiment Analysis"
   ]
  },
  {
   "cell_type": "markdown",
   "metadata": {},
   "source": [
    "## Problem Statement\n",
    "\n",
    "The data contains highly popular movie reviews on IMDB and was collected by Stanford researchers for a 2011 paper *(Maas et al.)*. It contains 50,000 movie reviews (positive or negative) for training and the same amount again for testing.\n",
    "\n",
    "The problem is to determine whether a given movie review has a positive or negative sentiment.\n",
    "\n",
    "Data Source: http://ai.stanford.edu/~amaas/data/sentiment/ *(Maas et al.)*"
   ]
  },
  {
   "cell_type": "code",
   "execution_count": 1,
   "metadata": {},
   "outputs": [
    {
     "name": "stderr",
     "output_type": "stream",
     "text": [
      "Using TensorFlow backend.\n"
     ]
    }
   ],
   "source": [
    "# import libraries\n",
    "import numpy as np\n",
    "from keras.datasets import imdb\n",
    "from matplotlib import pyplot\n",
    "from keras.models import Sequential\n",
    "from keras.layers import Dense\n",
    "from keras.layers import LSTM\n",
    "from keras.layers import Dropout\n",
    "from keras.layers.embeddings import Embedding\n",
    "from keras.preprocessing import sequence"
   ]
  },
  {
   "cell_type": "code",
   "execution_count": 2,
   "metadata": {},
   "outputs": [],
   "source": [
    "# fix random seed for reproducibility\n",
    "seed = 13\n",
    "np.random.seed(seed)"
   ]
  },
  {
   "cell_type": "code",
   "execution_count": 3,
   "metadata": {},
   "outputs": [],
   "source": [
    "# load data (but only keep the top n words, zero the rest)\n",
    "top_words = 5000\n",
    "(xTrain, yTrain), (xTest, yTest) = imdb.load_data(num_words = top_words)\n",
    "x = np.concatenate((xTrain, xTest), axis = 0)\n",
    "y = np.concatenate((yTrain, yTest), axis = 0)"
   ]
  },
  {
   "cell_type": "code",
   "execution_count": 4,
   "metadata": {},
   "outputs": [
    {
     "name": "stdout",
     "output_type": "stream",
     "text": [
      "(50000,) (50000,)\n",
      "[0 1]\n",
      "Number of words: 4998\n"
     ]
    }
   ],
   "source": [
    "# summarize\n",
    "print(x.shape, y.shape)\n",
    "print(np.unique(y))\n",
    "print(f'Number of words: {len(np.unique(np.hstack(x)))}')"
   ]
  },
  {
   "cell_type": "code",
   "execution_count": 5,
   "metadata": {},
   "outputs": [],
   "source": [
    "# truncate and pad input sequences to make them all the same length for modeling\n",
    "max_review_length = 500\n",
    "xTrain = sequence.pad_sequences(xTrain, maxlen = max_review_length)\n",
    "xTest = sequence.pad_sequences(xTest, maxlen = max_review_length)"
   ]
  },
  {
   "cell_type": "code",
   "execution_count": 6,
   "metadata": {},
   "outputs": [
    {
     "name": "stderr",
     "output_type": "stream",
     "text": [
      "WARNING: Logging before flag parsing goes to stderr.\n",
      "W0119 23:39:06.076373 14908 module_wrapper.py:139] From C:\\Users\\e93689\\AppData\\Roaming\\Python\\Python36\\site-packages\\keras\\backend\\tensorflow_backend.py:74: The name tf.get_default_graph is deprecated. Please use tf.compat.v1.get_default_graph instead.\n",
      "\n",
      "W0119 23:39:06.108290 14908 module_wrapper.py:139] From C:\\Users\\e93689\\AppData\\Roaming\\Python\\Python36\\site-packages\\keras\\backend\\tensorflow_backend.py:517: The name tf.placeholder is deprecated. Please use tf.compat.v1.placeholder instead.\n",
      "\n",
      "W0119 23:39:06.121254 14908 module_wrapper.py:139] From C:\\Users\\e93689\\AppData\\Roaming\\Python\\Python36\\site-packages\\keras\\backend\\tensorflow_backend.py:4138: The name tf.random_uniform is deprecated. Please use tf.random.uniform instead.\n",
      "\n",
      "W0119 23:39:06.180097 14908 module_wrapper.py:139] From C:\\Users\\e93689\\AppData\\Roaming\\Python\\Python36\\site-packages\\keras\\backend\\tensorflow_backend.py:133: The name tf.placeholder_with_default is deprecated. Please use tf.compat.v1.placeholder_with_default instead.\n",
      "\n",
      "W0119 23:39:06.195057 14908 deprecation.py:506] From C:\\Users\\e93689\\AppData\\Roaming\\Python\\Python36\\site-packages\\keras\\backend\\tensorflow_backend.py:3445: calling dropout (from tensorflow.python.ops.nn_ops) with keep_prob is deprecated and will be removed in a future version.\n",
      "Instructions for updating:\n",
      "Please use `rate` instead of `keep_prob`. Rate should be set to `rate = 1 - keep_prob`.\n",
      "W0119 23:39:06.602966 14908 module_wrapper.py:139] From C:\\Users\\e93689\\AppData\\Roaming\\Python\\Python36\\site-packages\\keras\\optimizers.py:790: The name tf.train.Optimizer is deprecated. Please use tf.compat.v1.train.Optimizer instead.\n",
      "\n",
      "W0119 23:39:06.629895 14908 module_wrapper.py:139] From C:\\Users\\e93689\\AppData\\Roaming\\Python\\Python36\\site-packages\\keras\\backend\\tensorflow_backend.py:3376: The name tf.log is deprecated. Please use tf.math.log instead.\n",
      "\n",
      "W0119 23:39:06.637874 14908 deprecation.py:323] From C:\\Users\\e93689\\AppData\\Roaming\\Python\\Python36\\site-packages\\tensorflow_core\\python\\ops\\nn_impl.py:183: where (from tensorflow.python.ops.array_ops) is deprecated and will be removed in a future version.\n",
      "Instructions for updating:\n",
      "Use tf.where in 2.0, which has the same broadcast rule as np.where\n"
     ]
    },
    {
     "name": "stdout",
     "output_type": "stream",
     "text": [
      "_________________________________________________________________\n",
      "Layer (type)                 Output Shape              Param #   \n",
      "=================================================================\n",
      "embedding_1 (Embedding)      (None, 500, 32)           160000    \n",
      "_________________________________________________________________\n",
      "dropout_1 (Dropout)          (None, 500, 32)           0         \n",
      "_________________________________________________________________\n",
      "lstm_1 (LSTM)                (None, 100)               53200     \n",
      "_________________________________________________________________\n",
      "dropout_2 (Dropout)          (None, 100)               0         \n",
      "_________________________________________________________________\n",
      "dense_1 (Dense)              (None, 1)                 101       \n",
      "=================================================================\n",
      "Total params: 213,301\n",
      "Trainable params: 213,301\n",
      "Non-trainable params: 0\n",
      "_________________________________________________________________\n"
     ]
    },
    {
     "name": "stderr",
     "output_type": "stream",
     "text": [
      "W0119 23:39:07.514873 14908 module_wrapper.py:139] From C:\\Users\\e93689\\AppData\\Roaming\\Python\\Python36\\site-packages\\keras\\backend\\tensorflow_backend.py:986: The name tf.assign_add is deprecated. Please use tf.compat.v1.assign_add instead.\n",
      "\n",
      "W0119 23:39:07.648516 14908 module_wrapper.py:139] From C:\\Users\\e93689\\AppData\\Roaming\\Python\\Python36\\site-packages\\keras\\backend\\tensorflow_backend.py:973: The name tf.assign is deprecated. Please use tf.compat.v1.assign instead.\n",
      "\n",
      "W0119 23:39:07.867930 14908 module_wrapper.py:139] From C:\\Users\\e93689\\AppData\\Roaming\\Python\\Python36\\site-packages\\keras\\backend\\tensorflow_backend.py:2741: The name tf.Session is deprecated. Please use tf.compat.v1.Session instead.\n",
      "\n",
      "W0119 23:39:07.875908 14908 module_wrapper.py:139] From C:\\Users\\e93689\\AppData\\Roaming\\Python\\Python36\\site-packages\\keras\\backend\\tensorflow_backend.py:174: The name tf.get_default_session is deprecated. Please use tf.compat.v1.get_default_session instead.\n",
      "\n",
      "W0119 23:39:07.876914 14908 module_wrapper.py:139] From C:\\Users\\e93689\\AppData\\Roaming\\Python\\Python36\\site-packages\\keras\\backend\\tensorflow_backend.py:181: The name tf.ConfigProto is deprecated. Please use tf.compat.v1.ConfigProto instead.\n",
      "\n",
      "W0119 23:39:07.994591 14908 module_wrapper.py:139] From C:\\Users\\e93689\\AppData\\Roaming\\Python\\Python36\\site-packages\\keras\\backend\\tensorflow_backend.py:190: The name tf.global_variables is deprecated. Please use tf.compat.v1.global_variables instead.\n",
      "\n",
      "W0119 23:39:07.995588 14908 module_wrapper.py:139] From C:\\Users\\e93689\\AppData\\Roaming\\Python\\Python36\\site-packages\\keras\\backend\\tensorflow_backend.py:199: The name tf.is_variable_initialized is deprecated. Please use tf.compat.v1.is_variable_initialized instead.\n",
      "\n"
     ]
    },
    {
     "name": "stdout",
     "output_type": "stream",
     "text": [
      "Epoch 1/6\n"
     ]
    },
    {
     "name": "stderr",
     "output_type": "stream",
     "text": [
      "W0119 23:39:08.192068 14908 module_wrapper.py:139] From C:\\Users\\e93689\\AppData\\Roaming\\Python\\Python36\\site-packages\\keras\\backend\\tensorflow_backend.py:206: The name tf.variables_initializer is deprecated. Please use tf.compat.v1.variables_initializer instead.\n",
      "\n"
     ]
    },
    {
     "name": "stdout",
     "output_type": "stream",
     "text": [
      "25000/25000 [==============================] - 298s 12ms/step - loss: 0.4965 - acc: 0.7452\n",
      "Epoch 2/6\n",
      "25000/25000 [==============================] - 278s 11ms/step - loss: 0.3628 - acc: 0.8417\n",
      "Epoch 3/6\n",
      "25000/25000 [==============================] - 273s 11ms/step - loss: 0.2915 - acc: 0.8785\n",
      "Epoch 4/6\n",
      "25000/25000 [==============================] - 276s 11ms/step - loss: 0.4475 - acc: 0.7987\n",
      "Epoch 5/6\n",
      "25000/25000 [==============================] - 279s 11ms/step - loss: 0.3767 - acc: 0.8344\n",
      "Epoch 6/6\n",
      "25000/25000 [==============================] - 305s 12ms/step - loss: 0.2617 - acc: 0.8954\n"
     ]
    },
    {
     "data": {
      "text/plain": [
       "<keras.callbacks.History at 0x1a772c03d68>"
      ]
     },
     "execution_count": 6,
     "metadata": {},
     "output_type": "execute_result"
    }
   ],
   "source": [
    "# create and fit LSTM network\n",
    "embedding_vector_length = 32\n",
    "model = Sequential()\n",
    "model.add(Embedding(top_words, embedding_vector_length, input_length = max_review_length))\n",
    "model.add(Dropout(0.2))\n",
    "model.add(LSTM(100))\n",
    "model.add(Dropout(0.2))\n",
    "model.add(Dense(1, activation = 'sigmoid'))\n",
    "model.compile(loss = 'binary_crossentropy', optimizer = 'adam', metrics = ['accuracy'])\n",
    "model.summary()\n",
    "model.fit(xTrain, yTrain, epochs = 6, batch_size = 64)"
   ]
  },
  {
   "cell_type": "code",
   "execution_count": 7,
   "metadata": {},
   "outputs": [
    {
     "name": "stdout",
     "output_type": "stream",
     "text": [
      "acc: 84.108\n"
     ]
    }
   ],
   "source": [
    "# evaluate the model\n",
    "scores = model.evaluate(xTest, yTest, verbose = 0)\n",
    "print(f'{model.metrics_names[1]}: {scores[1]*100}')"
   ]
  },
  {
   "cell_type": "markdown",
   "metadata": {},
   "source": [
    "## References \n",
    "\n",
    "Brownlee J. 2018. Deep Learning with Python. v1.14\n",
    "\n",
    "Maas, A.L., Daly, R.E., Pham, P.T., Huang, D., Ng, A.Y., Potts, C., 2011. Learning Word Vectors for Sentiment Analysis. Association for Computational Linguistics, Proceedings of the 49th Annual Meeting of the Association for Computational Linguistics: Human Language Technologies 142–150."
   ]
  }
 ],
 "metadata": {
  "cite2c": {
   "citations": {
    "6705763/TRGKVVGG": {
     "abstract": "Unsupervised vector-based approaches to semantics can model rich lexical meanings, but they largely fail to capture sentiment information that is central to many word meanings and important for a wide range of NLP tasks. We present a model that uses a mix of unsupervised and supervised techniques to learn word vectors capturing semantic term–document information as well as rich sentiment content. The proposed model can leverage both continuous and multi-dimensional sentiment information as well as non-sentiment annotations. We instantiate the model to utilize the document-level sentiment polarity annotations present in many online documents (e.g. star ratings). We evaluate the model using small, widely used sentiment and subjectivity corpora and ﬁnd it out-performs several previously introduced methods for sentiment classiﬁcation. We also introduce a large dataset of movie reviews to serve as a more robust benchmark for work in this area.",
     "author": [
      {
       "family": "Maas",
       "given": "Andrew L"
      },
      {
       "family": "Daly",
       "given": "Raymond E"
      },
      {
       "family": "Pham",
       "given": "Peter T"
      },
      {
       "family": "Huang",
       "given": "Dan"
      },
      {
       "family": "Ng",
       "given": "Andrew Y"
      },
      {
       "family": "Potts",
       "given": "Christopher"
      }
     ],
     "id": "6705763/TRGKVVGG",
     "language": "en",
     "page": "9",
     "page-first": "9",
     "title": "Learning Word Vectors for Sentiment Analysis",
     "type": "article-journal"
    },
    "undefined": {
     "abstract": "Unsupervised vector-based approaches to semantics can model rich lexical meanings, but they largely fail to capture sentiment information that is central to many word meanings and important for a wide range of NLP tasks. We present a model that uses a mix of unsupervised and supervised techniques to learn word vectors capturing semantic term–document information as well as rich sentiment content. The proposed model can leverage both continuous and multi-dimensional sentiment information as well as non-sentiment annotations. We instantiate the model to utilize the document-level sentiment polarity annotations present in many online documents (e.g. star ratings). We evaluate the model using small, widely used sentiment and subjectivity corpora and ﬁnd it out-performs several previously introduced methods for sentiment classiﬁcation. We also introduce a large dataset of movie reviews to serve as a more robust benchmark for work in this area.",
     "author": [
      {
       "family": "Maas",
       "given": "Andrew L"
      },
      {
       "family": "Daly",
       "given": "Raymond E"
      },
      {
       "family": "Pham",
       "given": "Peter T"
      },
      {
       "family": "Huang",
       "given": "Dan"
      },
      {
       "family": "Ng",
       "given": "Andrew Y"
      },
      {
       "family": "Potts",
       "given": "Christopher"
      }
     ],
     "id": "undefined",
     "language": "en",
     "page": "9",
     "page-first": "9",
     "title": "Learning Word Vectors for Sentiment Analysis",
     "type": "article-journal"
    }
   }
  },
  "kernelspec": {
   "display_name": "Python 3",
   "language": "python",
   "name": "python3"
  },
  "language_info": {
   "codemirror_mode": {
    "name": "ipython",
    "version": 3
   },
   "file_extension": ".py",
   "mimetype": "text/x-python",
   "name": "python",
   "nbconvert_exporter": "python",
   "pygments_lexer": "ipython3",
   "version": "3.6.8"
  }
 },
 "nbformat": 4,
 "nbformat_minor": 2
}
